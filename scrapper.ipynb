{
 "cells": [
  {
   "cell_type": "code",
   "execution_count": 2,
   "metadata": {},
   "outputs": [],
   "source": [
    "urls = [\n",
    "            'https://in.seamsfriendly.com/collections/dresses?page={}'.format(i) for i in range(10,40)\n",
    "        ]\n",
    "        "
   ]
  },
  {
   "cell_type": "code",
   "execution_count": 3,
   "metadata": {},
   "outputs": [],
   "source": [
    "\n",
    "import pandas as pd"
   ]
  },
  {
   "cell_type": "code",
   "execution_count": 4,
   "metadata": {},
   "outputs": [],
   "source": [
    "import pandas as pd\n",
    "df = pd.DataFrame(urls,columns= [ 'link'])\n"
   ]
  },
  {
   "cell_type": "code",
   "execution_count": 26,
   "metadata": {},
   "outputs": [],
   "source": [
    "import requests\n",
    "\n"
   ]
  },
  {
   "cell_type": "code",
   "execution_count": 36,
   "metadata": {},
   "outputs": [],
   "source": [
    "df4 = pd.read_csv('C:/Users/Sourav Kumar/VScodeProjects/programming_test/scrapy_artyvis/demo/links.csv')"
   ]
  },
  {
   "cell_type": "code",
   "execution_count": 35,
   "metadata": {},
   "outputs": [],
   "source": [
    "pd.DataFrame(columns = ['link']).to_csv('links.csv',index =False)"
   ]
  },
  {
   "cell_type": "code",
   "execution_count": 45,
   "metadata": {},
   "outputs": [
    {
     "data": {
      "text/plain": [
       "'https://in.seamsfriendly.com//collections/dresses/products/green-yarn-dyed-cotton-yoked-dress'"
      ]
     },
     "execution_count": 45,
     "metadata": {},
     "output_type": "execute_result"
    }
   ],
   "source": [
    "df4['link'][430]"
   ]
  },
  {
   "cell_type": "code",
   "execution_count": 21,
   "metadata": {},
   "outputs": [],
   "source": [
    "pd.DataFrame(columns = ['Name','Image_url','Price','Description']).to_csv('C:/Users/Sourav Kumar/VScodeProjects/programming_test/scrapy_artyvis/demo/details.csv',index=False)"
   ]
  },
  {
   "cell_type": "code",
   "execution_count": 24,
   "metadata": {},
   "outputs": [],
   "source": [
    "df = pd.read_csv('C:/Users/Sourav Kumar/VScodeProjects/programming_test/scrapy_artyvis/demo/details.csv')"
   ]
  },
  {
   "cell_type": "code",
   "execution_count": 25,
   "metadata": {},
   "outputs": [
    {
     "data": {
      "text/html": [
       "<div>\n",
       "<style scoped>\n",
       "    .dataframe tbody tr th:only-of-type {\n",
       "        vertical-align: middle;\n",
       "    }\n",
       "\n",
       "    .dataframe tbody tr th {\n",
       "        vertical-align: top;\n",
       "    }\n",
       "\n",
       "    .dataframe thead th {\n",
       "        text-align: right;\n",
       "    }\n",
       "</style>\n",
       "<table border=\"1\" class=\"dataframe\">\n",
       "  <thead>\n",
       "    <tr style=\"text-align: right;\">\n",
       "      <th></th>\n",
       "      <th>Name</th>\n",
       "      <th>Image_url</th>\n",
       "      <th>Price</th>\n",
       "      <th>Description</th>\n",
       "    </tr>\n",
       "  </thead>\n",
       "  <tbody>\n",
       "    <tr>\n",
       "      <th>0</th>\n",
       "      <td>Mauve Cotton Corduroy Baggy Shorts</td>\n",
       "      <td>['//cdn.shopify.com/s/files/1/0534/2501/2925/p...</td>\n",
       "      <td>₹3,200</td>\n",
       "      <td>Our artisans craft each piece, exclusively for...</td>\n",
       "    </tr>\n",
       "    <tr>\n",
       "      <th>1</th>\n",
       "      <td>White Hand Beaded Short Cotton Shorts</td>\n",
       "      <td>['//cdn.shopify.com/s/files/1/0534/2501/2925/p...</td>\n",
       "      <td>₹3,020</td>\n",
       "      <td>For days as hot as the sun, our short shorts i...</td>\n",
       "    </tr>\n",
       "    <tr>\n",
       "      <th>2</th>\n",
       "      <td>Beige Dabu Print Cotton Flared Shorts</td>\n",
       "      <td>['//cdn.shopify.com/s/files/1/0534/2501/2925/p...</td>\n",
       "      <td>₹3,390</td>\n",
       "      <td>Heading out for brunch in the summer heat? It ...</td>\n",
       "    </tr>\n",
       "    <tr>\n",
       "      <th>3</th>\n",
       "      <td>Brick Red Block Print Floral Hot Pants</td>\n",
       "      <td>['//cdn.shopify.com/s/files/1/0534/2501/2925/p...</td>\n",
       "      <td>₹2,760</td>\n",
       "      <td>When summer gets too hot to bear, compete it w...</td>\n",
       "    </tr>\n",
       "    <tr>\n",
       "      <th>4</th>\n",
       "      <td>Violet Striped Mangalgiri Cotton Shorts</td>\n",
       "      <td>['//cdn.shopify.com/s/files/1/0534/2501/2925/p...</td>\n",
       "      <td>₹3,440</td>\n",
       "      <td>Airy and soft, these Mangalgiri cotton shorts ...</td>\n",
       "    </tr>\n",
       "    <tr>\n",
       "      <th>...</th>\n",
       "      <td>...</td>\n",
       "      <td>...</td>\n",
       "      <td>...</td>\n",
       "      <td>...</td>\n",
       "    </tr>\n",
       "    <tr>\n",
       "      <th>62</th>\n",
       "      <td>Vintage Plum Handspun 100% Cotton Short Shorts</td>\n",
       "      <td>['//cdn.shopify.com/s/files/1/0534/2501/2925/p...</td>\n",
       "      <td>₹2,520</td>\n",
       "      <td>Our artisans craft each piece, exclusively for...</td>\n",
       "    </tr>\n",
       "    <tr>\n",
       "      <th>63</th>\n",
       "      <td>Navy Blue Striped Paneled Shorts</td>\n",
       "      <td>['//cdn.shopify.com/s/files/1/0534/2501/2925/p...</td>\n",
       "      <td>₹2,580</td>\n",
       "      <td>Our artisans craft each piece, exclusively for...</td>\n",
       "    </tr>\n",
       "    <tr>\n",
       "      <th>64</th>\n",
       "      <td>Beige 100% Cotton Low-Rise Short Shorts</td>\n",
       "      <td>['//cdn.shopify.com/s/files/1/0534/2501/2925/p...</td>\n",
       "      <td>₹3,130</td>\n",
       "      <td>Our artisans craft each piece, exclusively for...</td>\n",
       "    </tr>\n",
       "    <tr>\n",
       "      <th>65</th>\n",
       "      <td>Mint Green Tie and Dye Bermuda Shorts</td>\n",
       "      <td>['//cdn.shopify.com/s/files/1/0534/2501/2925/p...</td>\n",
       "      <td>₹2,970</td>\n",
       "      <td>Nothing's better than a pair of breezy Bermuda...</td>\n",
       "    </tr>\n",
       "    <tr>\n",
       "      <th>66</th>\n",
       "      <td>Handspun Solid Red Casual Cotton Shorts</td>\n",
       "      <td>['//cdn.shopify.com/s/files/1/0534/2501/2925/p...</td>\n",
       "      <td>₹3,100</td>\n",
       "      <td>Our artisans craft each piece, exclusively for...</td>\n",
       "    </tr>\n",
       "  </tbody>\n",
       "</table>\n",
       "<p>67 rows × 4 columns</p>\n",
       "</div>"
      ],
      "text/plain": [
       "                                                Name  \\\n",
       "0               Mauve Cotton Corduroy Baggy Shorts     \n",
       "1            White Hand Beaded Short Cotton Shorts     \n",
       "2            Beige Dabu Print Cotton Flared Shorts     \n",
       "3           Brick Red Block Print Floral Hot Pants     \n",
       "4          Violet Striped Mangalgiri Cotton Shorts     \n",
       "..                                               ...   \n",
       "62  Vintage Plum Handspun 100% Cotton Short Shorts     \n",
       "63                Navy Blue Striped Paneled Shorts     \n",
       "64         Beige 100% Cotton Low-Rise Short Shorts     \n",
       "65           Mint Green Tie and Dye Bermuda Shorts     \n",
       "66         Handspun Solid Red Casual Cotton Shorts     \n",
       "\n",
       "                                            Image_url   Price  \\\n",
       "0   ['//cdn.shopify.com/s/files/1/0534/2501/2925/p...  ₹3,200   \n",
       "1   ['//cdn.shopify.com/s/files/1/0534/2501/2925/p...  ₹3,020   \n",
       "2   ['//cdn.shopify.com/s/files/1/0534/2501/2925/p...  ₹3,390   \n",
       "3   ['//cdn.shopify.com/s/files/1/0534/2501/2925/p...  ₹2,760   \n",
       "4   ['//cdn.shopify.com/s/files/1/0534/2501/2925/p...  ₹3,440   \n",
       "..                                                ...     ...   \n",
       "62  ['//cdn.shopify.com/s/files/1/0534/2501/2925/p...  ₹2,520   \n",
       "63  ['//cdn.shopify.com/s/files/1/0534/2501/2925/p...  ₹2,580   \n",
       "64  ['//cdn.shopify.com/s/files/1/0534/2501/2925/p...  ₹3,130   \n",
       "65  ['//cdn.shopify.com/s/files/1/0534/2501/2925/p...  ₹2,970   \n",
       "66  ['//cdn.shopify.com/s/files/1/0534/2501/2925/p...  ₹3,100   \n",
       "\n",
       "                                          Description  \n",
       "0   Our artisans craft each piece, exclusively for...  \n",
       "1   For days as hot as the sun, our short shorts i...  \n",
       "2   Heading out for brunch in the summer heat? It ...  \n",
       "3   When summer gets too hot to bear, compete it w...  \n",
       "4   Airy and soft, these Mangalgiri cotton shorts ...  \n",
       "..                                                ...  \n",
       "62  Our artisans craft each piece, exclusively for...  \n",
       "63  Our artisans craft each piece, exclusively for...  \n",
       "64  Our artisans craft each piece, exclusively for...  \n",
       "65  Nothing's better than a pair of breezy Bermuda...  \n",
       "66  Our artisans craft each piece, exclusively for...  \n",
       "\n",
       "[67 rows x 4 columns]"
      ]
     },
     "execution_count": 25,
     "metadata": {},
     "output_type": "execute_result"
    }
   ],
   "source": [
    "df"
   ]
  },
  {
   "cell_type": "code",
   "execution_count": null,
   "metadata": {},
   "outputs": [],
   "source": []
  }
 ],
 "metadata": {
  "interpreter": {
   "hash": "2e9dec6be291d392a2e1ea251ebb24faa9bd4012e0629740769c11ada0461169"
  },
  "kernelspec": {
   "display_name": "Python 3.10.0 64-bit",
   "language": "python",
   "name": "python3"
  },
  "language_info": {
   "codemirror_mode": {
    "name": "ipython",
    "version": 3
   },
   "file_extension": ".py",
   "mimetype": "text/x-python",
   "name": "python",
   "nbconvert_exporter": "python",
   "pygments_lexer": "ipython3",
   "version": "3.10.0"
  },
  "orig_nbformat": 4
 },
 "nbformat": 4,
 "nbformat_minor": 2
}
